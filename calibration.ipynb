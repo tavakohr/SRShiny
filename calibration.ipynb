{
  "nbformat": 4,
  "nbformat_minor": 0,
  "metadata": {
    "colab": {
      "name": "calibration.ipynb",
      "provenance": [],
      "authorship_tag": "ABX9TyP7yd16ZKGqLEuHkbdrVBzL",
      "include_colab_link": true
    },
    "kernelspec": {
      "name": "python3",
      "display_name": "Python 3"
    },
    "language_info": {
      "name": "python"
    }
  },
  "cells": [
    {
      "cell_type": "markdown",
      "metadata": {
        "id": "view-in-github",
        "colab_type": "text"
      },
      "source": [
        "<a href=\"https://colab.research.google.com/github/tavakohr/rprojects/blob/main/calibration.ipynb\" target=\"_parent\"><img src=\"https://colab.research.google.com/assets/colab-badge.svg\" alt=\"Open In Colab\"/></a>"
      ]
    },
    {
      "cell_type": "code",
      "metadata": {
        "colab": {
          "base_uri": "https://localhost:8080/"
        },
        "id": "di5LC9hX2fhB",
        "outputId": "087c4125-94b1-4224-be5e-6dae3aae039d"
      },
      "source": [
        "%load_ext rpy2.ipython\n",
        "from google.colab import files"
      ],
      "execution_count": 21,
      "outputs": [
        {
          "output_type": "stream",
          "text": [
            "The rpy2.ipython extension is already loaded. To reload it, use:\n",
            "  %reload_ext rpy2.ipython\n"
          ],
          "name": "stdout"
        }
      ]
    },
    {
      "cell_type": "code",
      "metadata": {
        "colab": {
          "base_uri": "https://localhost:8080/"
        },
        "id": "VGwOTa-8oih9",
        "outputId": "aa3c1cd8-0ed9-4275-e18c-eaae44bb65ce"
      },
      "source": [
        "%%R\n",
        "install.packages(\"moments\")"
      ],
      "execution_count": 86,
      "outputs": [
        {
          "output_type": "stream",
          "text": [
            "R[write to console]: Installing package into ‘/usr/local/lib/R/site-library’\n",
            "(as ‘lib’ is unspecified)\n",
            "\n",
            "R[write to console]: trying URL 'https://cran.rstudio.com/src/contrib/moments_0.14.tar.gz'\n",
            "\n",
            "R[write to console]: Content type 'application/x-gzip'\n",
            "R[write to console]:  length 7650 bytes\n",
            "\n",
            "R[write to console]: =\n",
            "R[write to console]: =\n",
            "R[write to console]: =\n",
            "R[write to console]: =\n",
            "R[write to console]: =\n",
            "R[write to console]: =\n",
            "R[write to console]: =\n",
            "R[write to console]: =\n",
            "R[write to console]: =\n",
            "R[write to console]: =\n",
            "R[write to console]: =\n",
            "R[write to console]: =\n",
            "R[write to console]: =\n",
            "R[write to console]: =\n",
            "R[write to console]: =\n",
            "R[write to console]: =\n",
            "R[write to console]: =\n",
            "R[write to console]: =\n",
            "R[write to console]: =\n",
            "R[write to console]: =\n",
            "R[write to console]: =\n",
            "R[write to console]: =\n",
            "R[write to console]: =\n",
            "R[write to console]: =\n",
            "R[write to console]: =\n",
            "R[write to console]: =\n",
            "R[write to console]: =\n",
            "R[write to console]: =\n",
            "R[write to console]: =\n",
            "R[write to console]: =\n",
            "R[write to console]: =\n",
            "R[write to console]: =\n",
            "R[write to console]: =\n",
            "R[write to console]: =\n",
            "R[write to console]: =\n",
            "R[write to console]: =\n",
            "R[write to console]: =\n",
            "R[write to console]: =\n",
            "R[write to console]: =\n",
            "R[write to console]: =\n",
            "R[write to console]: =\n",
            "R[write to console]: =\n",
            "R[write to console]: =\n",
            "R[write to console]: =\n",
            "R[write to console]: =\n",
            "R[write to console]: =\n",
            "R[write to console]: =\n",
            "R[write to console]: =\n",
            "R[write to console]: =\n",
            "R[write to console]: =\n",
            "R[write to console]: \n",
            "\n",
            "R[write to console]: downloaded 7650 bytes\n",
            "\n",
            "\n",
            "R[write to console]: \n",
            "\n",
            "R[write to console]: \n",
            "R[write to console]: The downloaded source packages are in\n",
            "\t‘/tmp/RtmpPDyqdI/downloaded_packages’\n",
            "R[write to console]: \n",
            "R[write to console]: \n",
            "\n"
          ],
          "name": "stderr"
        }
      ]
    },
    {
      "cell_type": "code",
      "metadata": {
        "id": "MYjjvhuz20jQ"
      },
      "source": [
        "%%R\n",
        "library(tidyverse)\n",
        "library(repr)\n",
        "library(moments)"
      ],
      "execution_count": 87,
      "outputs": []
    },
    {
      "cell_type": "markdown",
      "metadata": {
        "id": "AY4w27XlVD6k"
      },
      "source": [
        "## Create Original data set"
      ]
    },
    {
      "cell_type": "code",
      "metadata": {
        "colab": {
          "base_uri": "https://localhost:8080/"
        },
        "id": "BUT9cucy20tW",
        "outputId": "e7030076-9166-4cfc-b5dc-1ac9a234a1dc"
      },
      "source": [
        "%%R\n",
        "x1 = rnorm(10000)           # some continuous variables\n",
        "z = 2 + x1       # linear combination with a bias\n",
        "pr = 1/(1+exp(-z))         # pass through an inv-logit function\n",
        "y = rbinom(10000,1,pr)      # bernoulli response variable\n",
        "print( paste('probability in original data set ' ,mean(pr)))"
      ],
      "execution_count": 24,
      "outputs": [
        {
          "output_type": "stream",
          "text": [
            "[1] \"probability in original data set  0.843306932160594\"\n"
          ],
          "name": "stdout"
        }
      ]
    },
    {
      "cell_type": "code",
      "metadata": {
        "colab": {
          "base_uri": "https://localhost:8080/"
        },
        "id": "jF6fSwI620ve",
        "outputId": "491b06fe-30c1-41ae-e5bc-ece3188ce36c"
      },
      "source": [
        "%%R\n",
        "#now feed it to glm:\n",
        "df1 = data.frame(y=y,x=x1)\n",
        "model1<-glm( y~x,data=df1,family=\"binomial\")\n",
        "model1"
      ],
      "execution_count": 27,
      "outputs": [
        {
          "output_type": "stream",
          "text": [
            "\n",
            "Call:  glm(formula = y ~ x, family = \"binomial\", data = df1)\n",
            "\n",
            "Coefficients:\n",
            "(Intercept)            x  \n",
            "     1.9261       0.9593  \n",
            "\n",
            "Degrees of Freedom: 9999 Total (i.e. Null);  9998 Residual\n",
            "Null Deviance:\t    8886 \n",
            "Residual Deviance: 7838 \tAIC: 7842\n"
          ],
          "name": "stdout"
        }
      ]
    },
    {
      "cell_type": "markdown",
      "metadata": {
        "id": "9vZLytYcXaZB"
      },
      "source": [
        "## Create validation data set"
      ]
    },
    {
      "cell_type": "code",
      "metadata": {
        "colab": {
          "base_uri": "https://localhost:8080/"
        },
        "id": "ycfuS7A720y8",
        "outputId": "54787c5b-209f-4cf2-dec1-f76d58ab9771"
      },
      "source": [
        "%%R\n",
        "x2 = rnorm(10000)           # some continuous variables\n",
        "z2 = -2 + 2*x2       # linear combination with a bias\n",
        "pr2 = 1/(1+exp(-z2))         # pass through an inv-logit function\n",
        "y2 = rbinom(10000,1,pr2)      # bernoulli response variable\n",
        "df2 = data.frame(y=y2,x=x2)\n",
        "\n",
        "print( paste('probability in vallidation data set ' ,mean(pr2)))"
      ],
      "execution_count": 29,
      "outputs": [
        {
          "output_type": "stream",
          "text": [
            "[1] \"probability in vallidation data set  0.224541083523995\"\n"
          ],
          "name": "stdout"
        }
      ]
    },
    {
      "cell_type": "code",
      "metadata": {
        "id": "ox48kzJx3ZDr"
      },
      "source": [
        "%%R\n",
        "incidence_O<-sum(y)/length(y)\n",
        "incidence_U<-sum(y2)/length(y2)"
      ],
      "execution_count": 30,
      "outputs": []
    },
    {
      "cell_type": "markdown",
      "metadata": {
        "id": "y8xS44lBX4nj"
      },
      "source": [
        "## mean of predicted value for original data"
      ]
    },
    {
      "cell_type": "code",
      "metadata": {
        "colab": {
          "base_uri": "https://localhost:8080/"
        },
        "id": "Iaqd9rlb3ZGM",
        "outputId": "dddba415-802a-4ad1-96de-6dab4102bcca"
      },
      "source": [
        "%%R\n",
        "p_original<-predict(model1,newdata=df1,type='response')\n",
        "mean(p_original)"
      ],
      "execution_count": 73,
      "outputs": [
        {
          "output_type": "stream",
          "text": [
            "[1] 0.8372\n"
          ],
          "name": "stdout"
        }
      ]
    },
    {
      "cell_type": "markdown",
      "metadata": {
        "id": "M0c4hnF3X_iC"
      },
      "source": [
        "## mean of predicted value for validation data\n",
        "## Although validation's incidence is 22% but model1 reports 83% "
      ]
    },
    {
      "cell_type": "code",
      "metadata": {
        "colab": {
          "base_uri": "https://localhost:8080/"
        },
        "id": "hOlUxnlsX2QW",
        "outputId": "abb2db7a-57c6-4107-9f5b-c2f2f69d551a"
      },
      "source": [
        "%%R\n",
        "mean(predict(model1,newdata=df2,type='response'))"
      ],
      "execution_count": 33,
      "outputs": [
        {
          "output_type": "stream",
          "text": [
            "[1] 0.838887\n"
          ],
          "name": "stdout"
        }
      ]
    },
    {
      "cell_type": "markdown",
      "metadata": {
        "id": "7kOjyK7rYmKV"
      },
      "source": [
        "### Responses in validation set  generates by original model"
      ]
    },
    {
      "cell_type": "code",
      "metadata": {
        "id": "Lyp-7IHqXvKB"
      },
      "source": [
        "%%R\n",
        "p=predict(model1,newdata=df2,type='response')\n"
      ],
      "execution_count": 45,
      "outputs": []
    },
    {
      "cell_type": "markdown",
      "metadata": {
        "id": "IfMxc0kSYz0s"
      },
      "source": [
        "## Calculate the correction factor"
      ]
    },
    {
      "cell_type": "code",
      "metadata": {
        "colab": {
          "base_uri": "https://localhost:8080/"
        },
        "id": "Hd-yL9RT3ZI5",
        "outputId": "5c868518-a016-4251-c78d-9d91737a5c7b"
      },
      "source": [
        "%%R\n",
        "CF=(incidence_U/(1-incidence_U))/(incidence_O/(1-incidence_O))\n",
        "CF"
      ],
      "execution_count": 36,
      "outputs": [
        {
          "output_type": "stream",
          "text": [
            "[1] 0.05606756\n"
          ],
          "name": "stdout"
        }
      ]
    },
    {
      "cell_type": "markdown",
      "metadata": {
        "id": "pRUrOiNSY6Db"
      },
      "source": [
        "## Transform the responses from original model "
      ]
    },
    {
      "cell_type": "code",
      "metadata": {
        "colab": {
          "base_uri": "https://localhost:8080/"
        },
        "id": "-BMY7myn3ZL3",
        "outputId": "00ce38e9-5f01-4a11-e147-9eba2fe3bda7"
      },
      "source": [
        "%%R\n",
        "updated_p=(p*CF)/(1+p*CF-p)\n",
        "\n",
        "mean(updated_p)\n"
      ],
      "execution_count": 38,
      "outputs": [
        {
          "output_type": "stream",
          "text": [
            "[1] 0.3095094\n"
          ],
          "name": "stdout"
        }
      ]
    },
    {
      "cell_type": "markdown",
      "metadata": {
        "id": "ZNHIC1XZZapq"
      },
      "source": [
        "## mean of transormed response is 0.31 while the correct mean in validation set is 0.22"
      ]
    },
    {
      "cell_type": "markdown",
      "metadata": {
        "id": "pDHC69JUaMMM"
      },
      "source": [
        "## create a gold standard response based on validation set"
      ]
    },
    {
      "cell_type": "code",
      "metadata": {
        "colab": {
          "base_uri": "https://localhost:8080/"
        },
        "id": "YGT63r60aMc_",
        "outputId": "2edaa8e7-2235-49e7-cf34-43defdfede88"
      },
      "source": [
        "%%R\n",
        "model2<-glm( y~x,data=df2,family=\"binomial\")\n",
        "model2\n",
        "p_reffited=predict(model2,newdata=df2,type='response')\n",
        "mean(p_reffited)"
      ],
      "execution_count": 95,
      "outputs": [
        {
          "output_type": "stream",
          "text": [
            "[1] 0.2238\n"
          ],
          "name": "stdout"
        }
      ]
    },
    {
      "cell_type": "markdown",
      "metadata": {
        "id": "4Kc0849-psPY"
      },
      "source": [
        "## probabilities in Original model"
      ]
    },
    {
      "cell_type": "code",
      "metadata": {
        "colab": {
          "base_uri": "https://localhost:8080/",
          "height": 497
        },
        "id": "ESiynpXypz6E",
        "outputId": "3e93804f-1921-4275-e3d5-1fef5425e63f"
      },
      "source": [
        "%%R\n",
        "hist(p_original, main='probabilities of evant on training set')"
      ],
      "execution_count": 103,
      "outputs": [
        {
          "output_type": "display_data",
          "data": {
            "image/png": "[encoded data removed]"
          },
          "metadata": {}
        }
      ]
    },
    {
      "cell_type": "markdown",
      "metadata": {
        "id": "r_h8z4Thp2ET"
      },
      "source": [
        "## comparing the probabilities of associated with validation set\n",
        "  - 1 updated_p : after converting using CF\n",
        "  - 2 p_reffited  is provided by refitting a new model on validation set\n",
        "  - 3 p is probabilities for validation set generated by original model"
      ]
    },
    {
      "cell_type": "code",
      "metadata": {
        "colab": {
          "base_uri": "https://localhost:8080/",
          "height": 497
        },
        "id": "Vr0JC0XWZyup",
        "outputId": "1f9cd527-c71d-492a-f660-89c695694aa1"
      },
      "source": [
        "%%R\n",
        "par(mfrow=c(1,3))\n",
        "\n",
        "options(repr.plot.width = 2, repr.plot.height =1, repr.plot.res = 600)\n",
        "\n",
        "hist(updated_p,main=\"Updated probabilities\")\n",
        "hist(p_reffited,main=\"Real probabilities \")\n",
        "hist(p,main=\"Original output for validation set \")"
      ],
      "execution_count": 96,
      "outputs": [
        {
          "output_type": "display_data",
          "data": {
            "image/png": "[encoded data removed]"
          },
          "metadata": {}
        }
      ]
    },
    {
      "cell_type": "code",
      "metadata": {
        "colab": {
          "base_uri": "https://localhost:8080/"
        },
        "id": "827kv1CW3ZQ9",
        "outputId": "80329459-9714-422d-c6ac-e376d30479d5"
      },
      "source": [
        "%%R\n",
        "print(paste('brier score on original',sum((p-y2)^2)/length(y2)))\n",
        "print(paste('brier score on updated',sum((updated_p-y2)^2)/length(y2)))\n",
        "print(paste('brier score on refitted',sum((p_reffited-y2)^2)/length(y2)))"
      ],
      "execution_count": 97,
      "outputs": [
        {
          "output_type": "stream",
          "text": [
            "[1] \"brier score on original 0.523965769495825\"\n",
            "[1] \"brier score on updated 0.12615022536725\"\n",
            "[1] \"brier score on refitted 0.111063135044436\"\n"
          ],
          "name": "stdout"
        }
      ]
    },
    {
      "cell_type": "code",
      "metadata": {
        "colab": {
          "base_uri": "https://localhost:8080/"
        },
        "id": "r0k-Khx03ZW-",
        "outputId": "5e1dd5af-19b7-4e3b-9750-dd3509d8793a"
      },
      "source": [
        "%%R\n",
        "skewness(p_original)\n"
      ],
      "execution_count": 98,
      "outputs": [
        {
          "output_type": "stream",
          "text": [
            "[1] -1.442535\n"
          ],
          "name": "stdout"
        }
      ]
    },
    {
      "cell_type": "code",
      "metadata": {
        "colab": {
          "base_uri": "https://localhost:8080/"
        },
        "id": "iiI1YIZp3Zbs",
        "outputId": "71421f43-34d9-4660-c6ec-e3144c129ce8"
      },
      "source": [
        "%%R\n",
        "skewness(updated_p) "
      ],
      "execution_count": 99,
      "outputs": [
        {
          "output_type": "stream",
          "text": [
            "[1] 0.7096841\n"
          ],
          "name": "stdout"
        }
      ]
    },
    {
      "cell_type": "code",
      "metadata": {
        "colab": {
          "base_uri": "https://localhost:8080/"
        },
        "id": "5bFWGRof3ZeA",
        "outputId": "37c902c5-be28-49fa-affb-127c7dd7c536"
      },
      "source": [
        "%%R\n",
        "skewness(p_reffited) "
      ],
      "execution_count": 100,
      "outputs": [
        {
          "output_type": "stream",
          "text": [
            "[1] 1.315745\n"
          ],
          "name": "stdout"
        }
      ]
    },
    {
      "cell_type": "code",
      "metadata": {
        "colab": {
          "base_uri": "https://localhost:8080/"
        },
        "id": "v9_1nnK83ZgT",
        "outputId": "627b3161-bb5d-49b8-b914-1533995cf1bf"
      },
      "source": [
        "%%R\n",
        "skewness(p) "
      ],
      "execution_count": 101,
      "outputs": [
        {
          "output_type": "stream",
          "text": [
            "[1] -1.441225\n"
          ],
          "name": "stdout"
        }
      ]
    },
    {
      "cell_type": "code",
      "metadata": {
        "id": "icb4uNvZ3ZiW"
      },
      "source": [
        ""
      ],
      "execution_count": null,
      "outputs": []
    },
    {
      "cell_type": "code",
      "metadata": {
        "id": "spOvBUYR3Zke"
      },
      "source": [
        ""
      ],
      "execution_count": null,
      "outputs": []
    },
    {
      "cell_type": "code",
      "metadata": {
        "id": "ffRgMl_p3Zn9"
      },
      "source": [
        ""
      ],
      "execution_count": null,
      "outputs": []
    }
  ]
}