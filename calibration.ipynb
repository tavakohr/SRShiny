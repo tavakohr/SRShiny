{
  "nbformat": 4,
  "nbformat_minor": 0,
  "metadata": {
    "colab": {
      "name": "calibration.ipynb",
      "provenance": [],
      "authorship_tag": "ABX9TyOOwWvtIaWDthaA5i+6cd0s",
      "include_colab_link": true
    },
    "kernelspec": {
      "name": "python3",
      "display_name": "Python 3"
    },
    "language_info": {
      "name": "python"
    }
  },
  "cells": [
    {
      "cell_type": "markdown",
      "metadata": {
        "id": "view-in-github",
        "colab_type": "text"
      },
      "source": [
        "<a href=\"https://colab.research.google.com/github/tavakohr/rprojects/blob/main/calibration.ipynb\" target=\"_parent\"><img src=\"https://colab.research.google.com/assets/colab-badge.svg\" alt=\"Open In Colab\"/></a>"
      ]
    },
    {
      "cell_type": "code",
      "metadata": {
        "id": "di5LC9hX2fhB"
      },
      "source": [
        "%load_ext rpy2.ipython\n",
        "from google.colab import files"
      ],
      "execution_count": 1,
      "outputs": []
    },
    {
      "cell_type": "code",
      "metadata": {
        "colab": {
          "base_uri": "https://localhost:8080/"
        },
        "id": "MYjjvhuz20jQ",
        "outputId": "a3279615-7878-4375-d762-a23b25090600"
      },
      "source": [
        "%%R\n",
        "library(tidyverse)"
      ],
      "execution_count": 2,
      "outputs": [
        {
          "output_type": "stream",
          "text": [
            "R[write to console]: ── Attaching packages ─────────────────────────────────────── tidyverse 1.3.1 ──\n",
            "\n",
            "R[write to console]: ✔ ggplot2 3.3.5     ✔ purrr   0.3.4\n",
            "✔ tibble  3.1.3     ✔ dplyr   1.0.7\n",
            "✔ tidyr   1.1.3     ✔ stringr 1.4.0\n",
            "✔ readr   2.0.1     ✔ forcats 0.5.1\n",
            "\n",
            "R[write to console]: ── Conflicts ────────────────────────────────────────── tidyverse_conflicts() ──\n",
            "✖ dplyr::filter() masks stats::filter()\n",
            "✖ dplyr::lag()    masks stats::lag()\n",
            "\n"
          ],
          "name": "stderr"
        }
      ]
    },
    {
      "cell_type": "code",
      "metadata": {
        "id": "BUT9cucy20tW"
      },
      "source": [
        "%%R\n",
        "x1 = rnorm(10000)           # some continuous variables\n",
        "z = 2 + x1       # linear combination with a bias\n",
        "pr = 1/(1+exp(-z))         # pass through an inv-logit function\n",
        "y = rbinom(10000,1,pr)      # bernoulli response variable"
      ],
      "execution_count": 3,
      "outputs": []
    },
    {
      "cell_type": "code",
      "metadata": {
        "colab": {
          "base_uri": "https://localhost:8080/"
        },
        "id": "jF6fSwI620ve",
        "outputId": "30d11bf9-e07b-48a1-fa69-6e7118c188fe"
      },
      "source": [
        "%%R\n",
        "#now feed it to glm:\n",
        "df1 = data.frame(y=y,x=x1)\n",
        "model1<-glm( y~x,data=df1,family=\"binomial\")\n",
        "model1"
      ],
      "execution_count": 5,
      "outputs": [
        {
          "output_type": "stream",
          "text": [
            "\n",
            "Call:  glm(formula = y ~ x, family = \"binomial\", data = df1)\n",
            "\n",
            "Coefficients:\n",
            "(Intercept)            x  \n",
            "     1.9776       0.9664  \n",
            "\n",
            "Degrees of Freedom: 9999 Total (i.e. Null);  9998 Residual\n",
            "Null Deviance:\t    8680 \n",
            "Residual Deviance: 7652 \tAIC: 7656\n"
          ],
          "name": "stdout"
        }
      ]
    },
    {
      "cell_type": "code",
      "metadata": {
        "id": "ycfuS7A720y8"
      },
      "source": [
        "%%R\n",
        "x2 = rnorm(10000)           # some continuous variables\n",
        "z2 = -2 + 2*x2       # linear combination with a bias\n",
        "pr2 = 1/(1+exp(-z2))         # pass through an inv-logit function\n",
        "y2 = rbinom(10000,1,pr2)      # bernoulli response variable\n",
        "df2 = data.frame(y=y2,x=x2)\n",
        "\n"
      ],
      "execution_count": 6,
      "outputs": []
    },
    {
      "cell_type": "code",
      "metadata": {
        "id": "ox48kzJx3ZDr"
      },
      "source": [
        "%%R\n",
        "incidence_O<-sum(y)/length(y)\n",
        "incidence_U<-sum(y2)/length(y2)\n",
        "\n"
      ],
      "execution_count": 7,
      "outputs": []
    },
    {
      "cell_type": "code",
      "metadata": {
        "colab": {
          "base_uri": "https://localhost:8080/",
          "height": 497
        },
        "id": "Iaqd9rlb3ZGM",
        "outputId": "cc244074-ac5e-48dc-b2a7-eacacf9430d1"
      },
      "source": [
        "%%R\n",
        "mean(predict(model1,newdata=df1,type='response'))\n",
        "mean(predict(model1,newdata=df2,type='response'))\n",
        "p=predict(model1,newdata=df2,type='response')\n",
        "hist(p)\n"
      ],
      "execution_count": 8,
      "outputs": [
        {
          "output_type": "display_data",
          "data": {
            "image/png": "[encoded data removed]"
          },
          "metadata": {}
        }
      ]
    },
    {
      "cell_type": "code",
      "metadata": {
        "colab": {
          "base_uri": "https://localhost:8080/"
        },
        "id": "Hd-yL9RT3ZI5",
        "outputId": "4370cf7b-ab39-4e97-f9a5-f5badd9d435a"
      },
      "source": [
        "%%R\n",
        "CF=(incidence_U/(1-incidence_U))/(incidence_O/(1-incidence_O))\n",
        "CF"
      ],
      "execution_count": 10,
      "outputs": [
        {
          "output_type": "stream",
          "text": [
            "[1] 0.05282911\n"
          ],
          "name": "stdout"
        }
      ]
    },
    {
      "cell_type": "code",
      "metadata": {
        "colab": {
          "base_uri": "https://localhost:8080/",
          "height": 514
        },
        "id": "-BMY7myn3ZL3",
        "outputId": "34f0e90a-69c1-4b6a-cc6a-ea12aed0a82b"
      },
      "source": [
        "%%R\n",
        "updated_p=(p*CF)/(1+p*CF-p)\n",
        "hist(updated_p)\n",
        "mean(updated_p)\n"
      ],
      "execution_count": 11,
      "outputs": [
        {
          "output_type": "stream",
          "text": [
            "[1] 0.3053583\n"
          ],
          "name": "stdout"
        },
        {
          "output_type": "display_data",
          "data": {
            "image/png": "[encoded data removed]"
          },
          "metadata": {}
        }
      ]
    },
    {
      "cell_type": "code",
      "metadata": {
        "colab": {
          "base_uri": "https://localhost:8080/",
          "height": 514
        },
        "id": "eCQts7nt3ZOX",
        "outputId": "6b78c38d-0c6c-4613-d490-3079ac95b856"
      },
      "source": [
        "%%R\n",
        "model2<-glm( y~x,data=df2,family=\"binomial\")\n",
        "model2\n",
        "p2=predict(model2,newdata=df2,type='response')\n",
        "hist(p2)\n",
        "mean(p2)\n",
        "\n"
      ],
      "execution_count": 12,
      "outputs": [
        {
          "output_type": "stream",
          "text": [
            "[1] 0.2215\n"
          ],
          "name": "stdout"
        },
        {
          "output_type": "display_data",
          "data": {
            "image/png": "[encoded data removed]"
          },
          "metadata": {}
        }
      ]
    },
    {
      "cell_type": "code",
      "metadata": {
        "colab": {
          "base_uri": "https://localhost:8080/"
        },
        "id": "827kv1CW3ZQ9",
        "outputId": "8de3e7e5-1f91-4d2c-a57f-f6fff87b2d0e"
      },
      "source": [
        "%%R\n",
        "print(sum((p-y2)^2)/length(y2))\n",
        "print(sum((updated_p-y2)^2)/length(y2))\n",
        "print(sum((p2-y2)^2)/length(y2))"
      ],
      "execution_count": 15,
      "outputs": [
        {
          "output_type": "stream",
          "text": [
            "[1] 0.5314678\n",
            "[1] 0.1258918\n",
            "[1] 0.1113009\n"
          ],
          "name": "stdout"
        }
      ]
    },
    {
      "cell_type": "code",
      "metadata": {
        "id": "r0k-Khx03ZW-"
      },
      "source": [
        ""
      ],
      "execution_count": null,
      "outputs": []
    },
    {
      "cell_type": "code",
      "metadata": {
        "id": "qLIUoH4P3ZZU"
      },
      "source": [
        ""
      ],
      "execution_count": null,
      "outputs": []
    },
    {
      "cell_type": "code",
      "metadata": {
        "id": "iiI1YIZp3Zbs"
      },
      "source": [
        ""
      ],
      "execution_count": null,
      "outputs": []
    },
    {
      "cell_type": "code",
      "metadata": {
        "id": "5bFWGRof3ZeA"
      },
      "source": [
        ""
      ],
      "execution_count": null,
      "outputs": []
    },
    {
      "cell_type": "code",
      "metadata": {
        "id": "v9_1nnK83ZgT"
      },
      "source": [
        ""
      ],
      "execution_count": null,
      "outputs": []
    },
    {
      "cell_type": "code",
      "metadata": {
        "id": "icb4uNvZ3ZiW"
      },
      "source": [
        ""
      ],
      "execution_count": null,
      "outputs": []
    },
    {
      "cell_type": "code",
      "metadata": {
        "id": "spOvBUYR3Zke"
      },
      "source": [
        ""
      ],
      "execution_count": null,
      "outputs": []
    },
    {
      "cell_type": "code",
      "metadata": {
        "id": "ffRgMl_p3Zn9"
      },
      "source": [
        ""
      ],
      "execution_count": null,
      "outputs": []
    }
  ]
}