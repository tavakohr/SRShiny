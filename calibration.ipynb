{
  "nbformat": 4,
  "nbformat_minor": 0,
  "metadata": {
    "colab": {
      "name": "calibration.ipynb",
      "provenance": [],
      "collapsed_sections": [],
      "authorship_tag": "ABX9TyMT9w5CUOKu6a9AKt3y1yyV",
      "include_colab_link": true
    },
    "kernelspec": {
      "name": "python3",
      "display_name": "Python 3"
    },
    "language_info": {
      "name": "python"
    }
  },
  "cells": [
    {
      "cell_type": "markdown",
      "metadata": {
        "id": "view-in-github",
        "colab_type": "text"
      },
      "source": [
        "<a href=\"https://colab.research.google.com/github/tavakohr/rprojects/blob/main/calibration.ipynb\" target=\"_parent\"><img src=\"https://colab.research.google.com/assets/colab-badge.svg\" alt=\"Open In Colab\"/></a>"
      ]
    },
    {
      "cell_type": "code",
      "metadata": {
        "colab": {
          "base_uri": "https://localhost:8080/"
        },
        "id": "di5LC9hX2fhB",
        "outputId": "09f1b491-7194-4bf0-c6e7-73103cd8fc4a"
      },
      "source": [
        "%load_ext rpy2.ipython\n",
        "from google.colab import files"
      ],
      "execution_count": 29,
      "outputs": [
        {
          "output_type": "stream",
          "text": [
            "The rpy2.ipython extension is already loaded. To reload it, use:\n",
            "  %reload_ext rpy2.ipython\n"
          ],
          "name": "stdout"
        }
      ]
    },
    {
      "cell_type": "code",
      "metadata": {
        "colab": {
          "base_uri": "https://localhost:8080/"
        },
        "id": "fuqmGjd9bICh",
        "outputId": "d97453dd-d917-4bb2-cdd6-ef060292f489"
      },
      "source": [
        "%%R\n",
        "#if (!require(\"moments\")) install.packages(\"remotes\")\n",
        "#if (!require(\"moments\")) remotes::install_github(\"feralaes/dampack\")"
      ],
      "execution_count": 30,
      "outputs": [
        {
          "output_type": "stream",
          "text": [
            "NULL\n"
          ],
          "name": "stdout"
        }
      ]
    },
    {
      "cell_type": "code",
      "metadata": {
        "id": "VGwOTa-8oih9"
      },
      "source": [
        "%%R\n",
        "if (!require(\"moments\")) install.packages(\"moments\")\n"
      ],
      "execution_count": 31,
      "outputs": []
    },
    {
      "cell_type": "code",
      "metadata": {
        "id": "MYjjvhuz20jQ"
      },
      "source": [
        "%%R\n",
        "library(tidyverse)\n",
        "library(repr)\n",
        "library(moments)\n",
        "#library(dampack)"
      ],
      "execution_count": 32,
      "outputs": []
    },
    {
      "cell_type": "markdown",
      "metadata": {
        "id": "AY4w27XlVD6k"
      },
      "source": [
        "# **Step 1 Create Original data set**"
      ]
    },
    {
      "cell_type": "code",
      "metadata": {
        "colab": {
          "base_uri": "https://localhost:8080/"
        },
        "id": "BUT9cucy20tW",
        "outputId": "e66ff99f-3568-4c78-f396-400e4e92a97a"
      },
      "source": [
        "%%R\n",
        "x1 = rnorm(10000)           # some continuous variables\n",
        "z = 2 + x1       # linear combination with a bias\n",
        "pr = 1/(1+exp(-z))         # pass through an inv-logit function\n",
        "y = rbinom(10000,1,pr)      # bernoulli response variable\n",
        "print( paste('probability in original data set ' ,mean(pr)))"
      ],
      "execution_count": 33,
      "outputs": [
        {
          "output_type": "stream",
          "text": [
            "[1] \"probability in original data set  0.845515475277624\"\n"
          ],
          "name": "stdout"
        }
      ]
    },
    {
      "cell_type": "code",
      "metadata": {
        "colab": {
          "base_uri": "https://localhost:8080/"
        },
        "id": "jF6fSwI620ve",
        "outputId": "3d83a922-2542-483d-ac81-d8cada0ccb3e"
      },
      "source": [
        "%%R\n",
        "#now feed it to glm:\n",
        "df1 = data.frame(y=y,x=x1)\n",
        "model1<-glm( y~x,data=df1,family=\"binomial\")\n",
        "model1"
      ],
      "execution_count": 34,
      "outputs": [
        {
          "output_type": "stream",
          "text": [
            "\n",
            "Call:  glm(formula = y ~ x, family = \"binomial\", data = df1)\n",
            "\n",
            "Coefficients:\n",
            "(Intercept)            x  \n",
            "      1.981        0.965  \n",
            "\n",
            "Degrees of Freedom: 9999 Total (i.e. Null);  9998 Residual\n",
            "Null Deviance:\t    8609 \n",
            "Residual Deviance: 7590 \tAIC: 7594\n"
          ],
          "name": "stdout"
        }
      ]
    },
    {
      "cell_type": "markdown",
      "metadata": {
        "id": "9vZLytYcXaZB"
      },
      "source": [
        "# **Step 2 Create validation data set**"
      ]
    },
    {
      "cell_type": "code",
      "metadata": {
        "colab": {
          "base_uri": "https://localhost:8080/"
        },
        "id": "ycfuS7A720y8",
        "outputId": "39d3c5f6-195b-47cc-b041-360207c00ac8"
      },
      "source": [
        "%%R\n",
        "x2 = rnorm(10000)           # some continuous variables\n",
        "z2 = 0.2 +  x2       # linear combination with a bias\n",
        "pr2 = 1/(1+exp(-z2))         # pass through an inv-logit function\n",
        "y2 = rbinom(10000,1,pr2)      # bernoulli response variable\n",
        "df2 = data.frame(y=y2,x=x2)\n",
        "\n",
        "print( paste('probability in vallidation data set ' ,mean(pr2)))"
      ],
      "execution_count": 35,
      "outputs": [
        {
          "output_type": "stream",
          "text": [
            "[1] \"probability in vallidation data set  0.539016542150476\"\n"
          ],
          "name": "stdout"
        }
      ]
    },
    {
      "cell_type": "code",
      "metadata": {
        "id": "ox48kzJx3ZDr"
      },
      "source": [
        "%%R\n",
        "incidence_O<-sum(y)/length(y)\n",
        "incidence_U<-sum(y2)/length(y2)"
      ],
      "execution_count": 36,
      "outputs": []
    },
    {
      "cell_type": "markdown",
      "metadata": {
        "id": "y8xS44lBX4nj"
      },
      "source": [
        "## mean of predicted value for original data"
      ]
    },
    {
      "cell_type": "code",
      "metadata": {
        "colab": {
          "base_uri": "https://localhost:8080/"
        },
        "id": "Iaqd9rlb3ZGM",
        "outputId": "f6963a54-84ff-4337-80f2-bd9c65508eca"
      },
      "source": [
        "%%R\n",
        "p_original<-predict(model1,newdata=df1,type='response')\n",
        "mean(p_original)"
      ],
      "execution_count": 37,
      "outputs": [
        {
          "output_type": "stream",
          "text": [
            "[1] 0.8455\n"
          ],
          "name": "stdout"
        }
      ]
    },
    {
      "cell_type": "code",
      "metadata": {
        "id": "lvcg_VSyw4gT"
      },
      "source": [
        ""
      ],
      "execution_count": 37,
      "outputs": []
    },
    {
      "cell_type": "markdown",
      "metadata": {
        "id": "M0c4hnF3X_iC"
      },
      "source": [
        "# mean p of validation vs original \n",
        "Although validation's incidence is 0.54 but model1 reports 0.85 "
      ]
    },
    {
      "cell_type": "code",
      "metadata": {
        "colab": {
          "base_uri": "https://localhost:8080/"
        },
        "id": "hOlUxnlsX2QW",
        "outputId": "a2948311-28d2-4d58-941b-dd4e028978a5"
      },
      "source": [
        "%%R\n",
        "mean(predict(model1,newdata=df2,type='response'))"
      ],
      "execution_count": 38,
      "outputs": [
        {
          "output_type": "stream",
          "text": [
            "[1] 0.8431815\n"
          ],
          "name": "stdout"
        }
      ]
    },
    {
      "cell_type": "markdown",
      "metadata": {
        "id": "7kOjyK7rYmKV"
      },
      "source": [
        "### Responses in validation set  generates by original model"
      ]
    },
    {
      "cell_type": "code",
      "metadata": {
        "id": "Lyp-7IHqXvKB"
      },
      "source": [
        "%%R\n",
        "p=predict(model1,newdata=df2,type='response')\n"
      ],
      "execution_count": 39,
      "outputs": []
    },
    {
      "cell_type": "markdown",
      "metadata": {
        "id": "IfMxc0kSYz0s"
      },
      "source": [
        "# **Step 3 Calculate the correction factor**"
      ]
    },
    {
      "cell_type": "code",
      "metadata": {
        "colab": {
          "base_uri": "https://localhost:8080/"
        },
        "id": "Hd-yL9RT3ZI5",
        "outputId": "fd761e9b-5cfb-4dce-ede6-4a6712433643"
      },
      "source": [
        "%%R\n",
        "CF=(incidence_U/(1-incidence_U))/(incidence_O/(1-incidence_O))\n",
        "CF"
      ],
      "execution_count": 40,
      "outputs": [
        {
          "output_type": "stream",
          "text": [
            "[1] 0.2095653\n"
          ],
          "name": "stdout"
        }
      ]
    },
    {
      "cell_type": "markdown",
      "metadata": {
        "id": "pRUrOiNSY6Db"
      },
      "source": [
        "## Transform the responses from original model "
      ]
    },
    {
      "cell_type": "code",
      "metadata": {
        "colab": {
          "base_uri": "https://localhost:8080/"
        },
        "id": "-BMY7myn3ZL3",
        "outputId": "df2f40d4-b63c-472f-8ef6-8fe8927cd7ff"
      },
      "source": [
        "%%R\n",
        "updated_p=(p*CF)/(1+p*CF-p)\n",
        "\n",
        "mean(updated_p)\n"
      ],
      "execution_count": 41,
      "outputs": [
        {
          "output_type": "stream",
          "text": [
            "[1] 0.5843544\n"
          ],
          "name": "stdout"
        }
      ]
    },
    {
      "cell_type": "markdown",
      "metadata": {
        "id": "ZNHIC1XZZapq"
      },
      "source": [
        "## mean of transormed response is 0.31 while the correct mean in validation set is 0.22"
      ]
    },
    {
      "cell_type": "markdown",
      "metadata": {
        "id": "pDHC69JUaMMM"
      },
      "source": [
        "## create a gold standard response based on validation set"
      ]
    },
    {
      "cell_type": "code",
      "metadata": {
        "colab": {
          "base_uri": "https://localhost:8080/"
        },
        "id": "YGT63r60aMc_",
        "outputId": "5281cb45-1a56-4495-b9dd-7ef6b17a6cbd"
      },
      "source": [
        "%%R\n",
        "model2<-glm( y~x,data=df2,family=\"binomial\")\n",
        "model2\n",
        "p_reffited=predict(model2,newdata=df2,type='response')\n",
        "mean(p_reffited)"
      ],
      "execution_count": 42,
      "outputs": [
        {
          "output_type": "stream",
          "text": [
            "[1] 0.5342\n"
          ],
          "name": "stdout"
        }
      ]
    },
    {
      "cell_type": "markdown",
      "metadata": {
        "id": "4Kc0849-psPY"
      },
      "source": [
        "## probabilities in Original model"
      ]
    },
    {
      "cell_type": "code",
      "metadata": {
        "colab": {
          "base_uri": "https://localhost:8080/",
          "height": 497
        },
        "id": "ESiynpXypz6E",
        "outputId": "a27c9f42-382a-44a3-88f3-ea1bcf6bc246"
      },
      "source": [
        "%%R\n",
        "hist(p_original, main='probabilities of evant on training set')"
      ],
      "execution_count": 43,
      "outputs": [
        {
          "output_type": "display_data",
          "data": {
            "image/png": "[encoded data removed]"
          },
          "metadata": {}
        }
      ]
    },
    {
      "cell_type": "markdown",
      "metadata": {
        "id": "r_h8z4Thp2ET"
      },
      "source": [
        "## comparing the probability set which are associated with validation set\n",
        "  - 1 updated_p : after converting using CF\n",
        "  - 2 p_reffited  is provided by refitting a new model on validation set\n",
        "  - 3 p is probabilities for validation set generated by original model"
      ]
    },
    {
      "cell_type": "code",
      "metadata": {
        "colab": {
          "base_uri": "https://localhost:8080/",
          "height": 497
        },
        "id": "Vr0JC0XWZyup",
        "outputId": "33d76e2a-387a-4b38-acd2-e30529d73d5e"
      },
      "source": [
        "%%R\n",
        "par(mfrow=c(1,3))\n",
        "\n",
        "options(repr.plot.width = 2, repr.plot.height =1, repr.plot.res = 600)\n",
        "\n",
        "hist(updated_p,main=\"Updated probabilities\")\n",
        "hist(p_reffited,main=\"Real probabilities \")\n",
        "hist(p,main=\"Original output for validation set \")"
      ],
      "execution_count": 44,
      "outputs": [
        {
          "output_type": "display_data",
          "data": {
            "image/png": "[encoded data removed]"
          },
          "metadata": {}
        }
      ]
    },
    {
      "cell_type": "code",
      "metadata": {
        "colab": {
          "base_uri": "https://localhost:8080/"
        },
        "id": "827kv1CW3ZQ9",
        "outputId": "78901543-a02d-44aa-cd74-b0eaad01f33a"
      },
      "source": [
        "%%R\n",
        "print(paste('brier score on original',sum((p-y2)^2)/length(y2)))\n",
        "print(paste('brier score on updated',sum((updated_p-y2)^2)/length(y2)))\n",
        "print(paste('brier score on refitted',sum((p_reffited-y2)^2)/length(y2)))"
      ],
      "execution_count": 45,
      "outputs": [
        {
          "output_type": "stream",
          "text": [
            "[1] \"brier score on original 0.312799093338861\"\n",
            "[1] \"brier score on updated 0.209108648569116\"\n",
            "[1] \"brier score on refitted 0.206301485012753\"\n"
          ],
          "name": "stdout"
        }
      ]
    },
    {
      "cell_type": "code",
      "metadata": {
        "colab": {
          "base_uri": "https://localhost:8080/"
        },
        "id": "r0k-Khx03ZW-",
        "outputId": "d6a756d7-6fb3-49c3-ed6f-972e67831377"
      },
      "source": [
        "%%R\n",
        "print(skewness(p_original))\n",
        "\n",
        "print(skewness(updated_p) )\n",
        "\n",
        "print(skewness(p_reffited) )"
      ],
      "execution_count": 46,
      "outputs": [
        {
          "output_type": "stream",
          "text": [
            "[1] -1.542056\n",
            "[1] -0.2829169\n",
            "[1] -0.1120983\n"
          ],
          "name": "stdout"
        }
      ]
    },
    {
      "cell_type": "markdown",
      "metadata": {
        "id": "CD7lLDe0zQkm"
      },
      "source": [
        "# **Step 4 Mohsen's correction factor**"
      ]
    },
    {
      "cell_type": "code",
      "metadata": {
        "colab": {
          "base_uri": "https://localhost:8080/"
        },
        "id": "xjtputRBvr4G",
        "outputId": "7b522c59-fddd-4a78-ef0c-3ee80e0f215e"
      },
      "source": [
        "%%R\n",
        "# k=Mohsen's correction factor\n",
        "# mu comes from the validation set refitted model\n",
        "# var also comes from validation set refitted model\n",
        "\n",
        "mu=mean(p_reffited)\n",
        "var=var(p_reffited)\n",
        "print(paste('Hamid corrected mu=',mean(updated_p)))"
      ],
      "execution_count": 47,
      "outputs": [
        {
          "output_type": "stream",
          "text": [
            "[1] \"Hamid corrected mu= 0.584354360194458\"\n"
          ],
          "name": "stdout"
        }
      ]
    },
    {
      "cell_type": "code",
      "metadata": {
        "id": "If-iDk-3HXFE"
      },
      "source": [
        ""
      ],
      "execution_count": 47,
      "outputs": []
    },
    {
      "cell_type": "markdown",
      "metadata": {
        "id": "gdgJ_qyRDGpY"
      },
      "source": [
        "**1-Mean in original population**\n"
      ]
    },
    {
      "cell_type": "code",
      "metadata": {
        "colab": {
          "base_uri": "https://localhost:8080/"
        },
        "id": "HYet7emtDONu",
        "outputId": "27bcd2ea-db19-4981-e278-c374c7cf81cd"
      },
      "source": [
        "%%R\n",
        "mean(p_original)"
      ],
      "execution_count": 48,
      "outputs": [
        {
          "output_type": "stream",
          "text": [
            "[1] 0.8455\n"
          ],
          "name": "stdout"
        }
      ]
    },
    {
      "cell_type": "markdown",
      "metadata": {
        "id": "XchkgeSQDcMU"
      },
      "source": [
        "**2-Variance in original population**"
      ]
    },
    {
      "cell_type": "code",
      "metadata": {
        "colab": {
          "base_uri": "https://localhost:8080/"
        },
        "id": "flaV-l9mDcrp",
        "outputId": "c90832c6-f566-4fb2-94c4-bac4b133e814"
      },
      "source": [
        "%%R\n",
        "var(p_original)"
      ],
      "execution_count": 49,
      "outputs": [
        {
          "output_type": "stream",
          "text": [
            "[1] 0.01453982\n"
          ],
          "name": "stdout"
        }
      ]
    },
    {
      "cell_type": "markdown",
      "metadata": {
        "id": "nfegE8q7ETAm"
      },
      "source": [
        "**3-Mean in validation population**"
      ]
    },
    {
      "cell_type": "code",
      "metadata": {
        "colab": {
          "base_uri": "https://localhost:8080/"
        },
        "id": "RuNjGUUsHreB",
        "outputId": "c92d3327-93d2-488f-a333-93022a4761ce"
      },
      "source": [
        "%%R\n",
        "mean(p_reffited)"
      ],
      "execution_count": 50,
      "outputs": [
        {
          "output_type": "stream",
          "text": [
            "[1] 0.5342\n"
          ],
          "name": "stdout"
        }
      ]
    },
    {
      "cell_type": "markdown",
      "metadata": {
        "id": "9lVfCVosHZnE"
      },
      "source": [
        "**4-Variance in validation population**"
      ]
    },
    {
      "cell_type": "code",
      "metadata": {
        "colab": {
          "base_uri": "https://localhost:8080/"
        },
        "id": "79QKfjkuHaHE",
        "outputId": "48e18fe7-5703-4cb3-b177-ca97b2b9ba7b"
      },
      "source": [
        "%%R\n",
        "var(p_reffited)"
      ],
      "execution_count": 51,
      "outputs": [
        {
          "output_type": "stream",
          "text": [
            "[1] 0.04227027\n"
          ],
          "name": "stdout"
        }
      ]
    },
    {
      "cell_type": "code",
      "metadata": {
        "colab": {
          "base_uri": "https://localhost:8080/"
        },
        "id": "xPRIj0ntLKsz",
        "outputId": "354c0175-5140-49e7-e527-4c1eef1937e2"
      },
      "source": [
        "%%R\n",
        "# Jensen correction\n",
        "CF"
      ],
      "execution_count": 52,
      "outputs": [
        {
          "output_type": "stream",
          "text": [
            "[1] 0.2095653\n"
          ],
          "name": "stdout"
        }
      ]
    },
    {
      "cell_type": "code",
      "metadata": {
        "colab": {
          "base_uri": "https://localhost:8080/"
        },
        "id": "-QxleLH0Bh8r",
        "outputId": "16ab9db9-7904-4bb6-b346-550591afee31"
      },
      "source": [
        "\n",
        "%%R\n",
        "#https://www.wolframalpha.com/input/?i=k%2F%281%2Bk%29%2B%281-+k%29k%2F%281-%28%281-k%29%29%2F2%29%5E3*0.01587526+%3D0.54689999999995\n",
        "#k≈1.2138\n",
        "\n",
        "\n",
        "k<-1.2138\n",
        "\n",
        "print(paste('k≈',k))"
      ],
      "execution_count": 53,
      "outputs": [
        {
          "output_type": "stream",
          "text": [
            "[1] \"k≈ 1.2138\"\n"
          ],
          "name": "stdout"
        }
      ]
    },
    {
      "cell_type": "code",
      "metadata": {
        "colab": {
          "base_uri": "https://localhost:8080/"
        },
        "id": "mO37F2pnw5wD",
        "outputId": "48e0bcb1-c57e-4285-bd1f-665ec225e153"
      },
      "source": [
        "%%R\n",
        "odds <- p_original/(1-p_original) * CF\n",
        "p_new<-odds/(1+odds)\n",
        "mean(p_new)"
      ],
      "execution_count": 54,
      "outputs": [
        {
          "output_type": "stream",
          "text": [
            "[1] 0.5881874\n"
          ],
          "name": "stdout"
        }
      ]
    },
    {
      "cell_type": "code",
      "metadata": {
        "colab": {
          "base_uri": "https://localhost:8080/",
          "height": 497
        },
        "id": "bgDfXpjaxidS",
        "outputId": "d1e61acc-e5f1-4d57-ecb0-df886fb7eab2"
      },
      "source": [
        "%%R\n",
        "hist(p_new)"
      ],
      "execution_count": 55,
      "outputs": [
        {
          "output_type": "display_data",
          "data": {
            "image/png": "[encoded data removed]"
          },
          "metadata": {}
        }
      ]
    }
  ]
}