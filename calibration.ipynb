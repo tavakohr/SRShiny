{
  "nbformat": 4,
  "nbformat_minor": 0,
  "metadata": {
    "colab": {
      "name": "calibration.ipynb",
      "provenance": [],
      "collapsed_sections": [],
      "authorship_tag": "ABX9TyNyo2LoJ8dFOe73xySt8GcT",
      "include_colab_link": true
    },
    "kernelspec": {
      "name": "python3",
      "display_name": "Python 3"
    },
    "language_info": {
      "name": "python"
    }
  },
  "cells": [
    {
      "cell_type": "markdown",
      "metadata": {
        "id": "view-in-github",
        "colab_type": "text"
      },
      "source": [
        "<a href=\"https://colab.research.google.com/github/tavakohr/rprojects/blob/main/calibration.ipynb\" target=\"_parent\"><img src=\"https://colab.research.google.com/assets/colab-badge.svg\" alt=\"Open In Colab\"/></a>"
      ]
    },
    {
      "cell_type": "code",
      "metadata": {
        "id": "di5LC9hX2fhB"
      },
      "source": [
        "%load_ext rpy2.ipython\n",
        "from google.colab import files"
      ],
      "execution_count": 1,
      "outputs": []
    },
    {
      "cell_type": "code",
      "metadata": {
        "id": "fuqmGjd9bICh"
      },
      "source": [
        "%%R\n",
        "if (!require(\"moments\")) install.packages(\"remotes\")\n",
        "if (!require(\"moments\")) remotes::install_github(\"feralaes/dampack\")"
      ],
      "execution_count": 26,
      "outputs": []
    },
    {
      "cell_type": "code",
      "metadata": {
        "id": "VGwOTa-8oih9"
      },
      "source": [
        "%%R\n",
        "if (!require(\"moments\")) install.packages(\"moments\")\n"
      ],
      "execution_count": 27,
      "outputs": []
    },
    {
      "cell_type": "code",
      "metadata": {
        "id": "MYjjvhuz20jQ"
      },
      "source": [
        "%%R\n",
        "library(tidyverse)\n",
        "library(repr)\n",
        "library(moments)\n",
        "library(dampack)"
      ],
      "execution_count": 28,
      "outputs": []
    },
    {
      "cell_type": "markdown",
      "metadata": {
        "id": "AY4w27XlVD6k"
      },
      "source": [
        "## Create Original data set"
      ]
    },
    {
      "cell_type": "code",
      "metadata": {
        "colab": {
          "base_uri": "https://localhost:8080/"
        },
        "id": "BUT9cucy20tW",
        "outputId": "4cd76c89-d764-42ea-c54e-5f6a39bdbfea"
      },
      "source": [
        "%%R\n",
        "x1 = rnorm(10000)           # some continuous variables\n",
        "z = 2 + x1       # linear combination with a bias\n",
        "pr = 1/(1+exp(-z))         # pass through an inv-logit function\n",
        "y = rbinom(10000,1,pr)      # bernoulli response variable\n",
        "print( paste('probability in original data set ' ,mean(pr)))"
      ],
      "execution_count": 5,
      "outputs": [
        {
          "output_type": "stream",
          "text": [
            "[1] \"probability in original data set  0.845667583897545\"\n"
          ],
          "name": "stdout"
        }
      ]
    },
    {
      "cell_type": "code",
      "metadata": {
        "colab": {
          "base_uri": "https://localhost:8080/"
        },
        "id": "jF6fSwI620ve",
        "outputId": "52fa62fb-7955-43f6-d0ae-9322b429ce4c"
      },
      "source": [
        "%%R\n",
        "#now feed it to glm:\n",
        "df1 = data.frame(y=y,x=x1)\n",
        "model1<-glm( y~x,data=df1,family=\"binomial\")\n",
        "model1"
      ],
      "execution_count": 6,
      "outputs": [
        {
          "output_type": "stream",
          "text": [
            "\n",
            "Call:  glm(formula = y ~ x, family = \"binomial\", data = df1)\n",
            "\n",
            "Coefficients:\n",
            "(Intercept)            x  \n",
            "     1.9924       0.9903  \n",
            "\n",
            "Degrees of Freedom: 9999 Total (i.e. Null);  9998 Residual\n",
            "Null Deviance:\t    8612 \n",
            "Residual Deviance: 7553 \tAIC: 7557\n"
          ],
          "name": "stdout"
        }
      ]
    },
    {
      "cell_type": "markdown",
      "metadata": {
        "id": "9vZLytYcXaZB"
      },
      "source": [
        "## Create validation data set"
      ]
    },
    {
      "cell_type": "code",
      "metadata": {
        "colab": {
          "base_uri": "https://localhost:8080/"
        },
        "id": "ycfuS7A720y8",
        "outputId": "45131ba4-48b9-4678-bcf5-8f4a49e24495"
      },
      "source": [
        "%%R\n",
        "x2 = rnorm(10000)           # some continuous variables\n",
        "z2 = -2 + 2*x2       # linear combination with a bias\n",
        "pr2 = 1/(1+exp(-z2))         # pass through an inv-logit function\n",
        "y2 = rbinom(10000,1,pr2)      # bernoulli response variable\n",
        "df2 = data.frame(y=y2,x=x2)\n",
        "\n",
        "print( paste('probability in vallidation data set ' ,mean(pr2)))"
      ],
      "execution_count": 7,
      "outputs": [
        {
          "output_type": "stream",
          "text": [
            "[1] \"probability in vallidation data set  0.22662095200822\"\n"
          ],
          "name": "stdout"
        }
      ]
    },
    {
      "cell_type": "code",
      "metadata": {
        "id": "ox48kzJx3ZDr"
      },
      "source": [
        "%%R\n",
        "incidence_O<-sum(y)/length(y)\n",
        "incidence_U<-sum(y2)/length(y2)"
      ],
      "execution_count": 8,
      "outputs": []
    },
    {
      "cell_type": "markdown",
      "metadata": {
        "id": "y8xS44lBX4nj"
      },
      "source": [
        "## mean of predicted value for original data"
      ]
    },
    {
      "cell_type": "code",
      "metadata": {
        "colab": {
          "base_uri": "https://localhost:8080/"
        },
        "id": "Iaqd9rlb3ZGM",
        "outputId": "b18e4617-790a-4ff1-bd78-34f8b5d7d744"
      },
      "source": [
        "%%R\n",
        "p_original<-predict(model1,newdata=df1,type='response')\n",
        "mean(p_original)"
      ],
      "execution_count": 9,
      "outputs": [
        {
          "output_type": "stream",
          "text": [
            "[1] 0.8454\n"
          ],
          "name": "stdout"
        }
      ]
    },
    {
      "cell_type": "markdown",
      "metadata": {
        "id": "M0c4hnF3X_iC"
      },
      "source": [
        "## mean of predicted value for validation data\n",
        "## Although validation's incidence is 22% but model1 reports 83% "
      ]
    },
    {
      "cell_type": "code",
      "metadata": {
        "colab": {
          "base_uri": "https://localhost:8080/"
        },
        "id": "hOlUxnlsX2QW",
        "outputId": "1965abd6-c622-48d7-b4e9-8827268d9932"
      },
      "source": [
        "%%R\n",
        "mean(predict(model1,newdata=df2,type='response'))"
      ],
      "execution_count": 10,
      "outputs": [
        {
          "output_type": "stream",
          "text": [
            "[1] 0.8455706\n"
          ],
          "name": "stdout"
        }
      ]
    },
    {
      "cell_type": "markdown",
      "metadata": {
        "id": "7kOjyK7rYmKV"
      },
      "source": [
        "### Responses in validation set  generates by original model"
      ]
    },
    {
      "cell_type": "code",
      "metadata": {
        "id": "Lyp-7IHqXvKB"
      },
      "source": [
        "%%R\n",
        "p=predict(model1,newdata=df2,type='response')\n"
      ],
      "execution_count": 11,
      "outputs": []
    },
    {
      "cell_type": "markdown",
      "metadata": {
        "id": "IfMxc0kSYz0s"
      },
      "source": [
        "## Calculate the correction factor"
      ]
    },
    {
      "cell_type": "code",
      "metadata": {
        "colab": {
          "base_uri": "https://localhost:8080/"
        },
        "id": "Hd-yL9RT3ZI5",
        "outputId": "b10fb723-dbb3-4caf-f27e-c47e535b8879"
      },
      "source": [
        "%%R\n",
        "CF=(incidence_U/(1-incidence_U))/(incidence_O/(1-incidence_O))\n",
        "CF"
      ],
      "execution_count": 12,
      "outputs": [
        {
          "output_type": "stream",
          "text": [
            "[1] 0.05239367\n"
          ],
          "name": "stdout"
        }
      ]
    },
    {
      "cell_type": "markdown",
      "metadata": {
        "id": "pRUrOiNSY6Db"
      },
      "source": [
        "## Transform the responses from original model "
      ]
    },
    {
      "cell_type": "code",
      "metadata": {
        "colab": {
          "base_uri": "https://localhost:8080/"
        },
        "id": "-BMY7myn3ZL3",
        "outputId": "5b57b3ac-307a-4b1b-f81f-f477b4e43492"
      },
      "source": [
        "%%R\n",
        "updated_p=(p*CF)/(1+p*CF-p)\n",
        "\n",
        "mean(updated_p)\n"
      ],
      "execution_count": 13,
      "outputs": [
        {
          "output_type": "stream",
          "text": [
            "[1] 0.3120339\n"
          ],
          "name": "stdout"
        }
      ]
    },
    {
      "cell_type": "markdown",
      "metadata": {
        "id": "ZNHIC1XZZapq"
      },
      "source": [
        "## mean of transormed response is 0.31 while the correct mean in validation set is 0.22"
      ]
    },
    {
      "cell_type": "markdown",
      "metadata": {
        "id": "pDHC69JUaMMM"
      },
      "source": [
        "## create a gold standard response based on validation set"
      ]
    },
    {
      "cell_type": "code",
      "metadata": {
        "colab": {
          "base_uri": "https://localhost:8080/"
        },
        "id": "YGT63r60aMc_",
        "outputId": "5531ca25-1300-4b25-b13a-eb0e3f0403c9"
      },
      "source": [
        "%%R\n",
        "model2<-glm( y~x,data=df2,family=\"binomial\")\n",
        "model2\n",
        "p_reffited=predict(model2,newdata=df2,type='response')\n",
        "mean(p_reffited)"
      ],
      "execution_count": 14,
      "outputs": [
        {
          "output_type": "stream",
          "text": [
            "[1] 0.2227\n"
          ],
          "name": "stdout"
        }
      ]
    },
    {
      "cell_type": "markdown",
      "metadata": {
        "id": "4Kc0849-psPY"
      },
      "source": [
        "## probabilities in Original model"
      ]
    },
    {
      "cell_type": "code",
      "metadata": {
        "colab": {
          "base_uri": "https://localhost:8080/",
          "height": 497
        },
        "id": "ESiynpXypz6E",
        "outputId": "3f9a27fa-a2df-42eb-ce3d-586f417ee3bd"
      },
      "source": [
        "%%R\n",
        "hist(p_original, main='probabilities of evant on training set')"
      ],
      "execution_count": 15,
      "outputs": [
        {
          "output_type": "display_data",
          "data": {
            "image/png": "[encoded data removed]"
          },
          "metadata": {}
        }
      ]
    },
    {
      "cell_type": "markdown",
      "metadata": {
        "id": "r_h8z4Thp2ET"
      },
      "source": [
        "## comparing the probability set which are associated with validation set\n",
        "  - 1 updated_p : after converting using CF\n",
        "  - 2 p_reffited  is provided by refitting a new model on validation set\n",
        "  - 3 p is probabilities for validation set generated by original model"
      ]
    },
    {
      "cell_type": "code",
      "metadata": {
        "colab": {
          "base_uri": "https://localhost:8080/",
          "height": 497
        },
        "id": "Vr0JC0XWZyup",
        "outputId": "a9cd0bec-77fb-4989-b76e-dcc0077ba742"
      },
      "source": [
        "%%R\n",
        "par(mfrow=c(1,3))\n",
        "\n",
        "options(repr.plot.width = 2, repr.plot.height =1, repr.plot.res = 600)\n",
        "\n",
        "hist(updated_p,main=\"Updated probabilities\")\n",
        "hist(p_reffited,main=\"Real probabilities \")\n",
        "hist(p,main=\"Original output for validation set \")"
      ],
      "execution_count": 16,
      "outputs": [
        {
          "output_type": "display_data",
          "data": {
            "image/png": "[encoded data removed]"
          },
          "metadata": {}
        }
      ]
    },
    {
      "cell_type": "code",
      "metadata": {
        "colab": {
          "base_uri": "https://localhost:8080/"
        },
        "id": "827kv1CW3ZQ9",
        "outputId": "0381bce0-191b-4795-a9ce-356532f9960a"
      },
      "source": [
        "%%R\n",
        "print(paste('brier score on original',sum((p-y2)^2)/length(y2)))\n",
        "print(paste('brier score on updated',sum((updated_p-y2)^2)/length(y2)))\n",
        "print(paste('brier score on refitted',sum((p_reffited-y2)^2)/length(y2)))"
      ],
      "execution_count": 17,
      "outputs": [
        {
          "output_type": "stream",
          "text": [
            "[1] \"brier score on original 0.534309445810964\"\n",
            "[1] \"brier score on updated 0.127003315282522\"\n",
            "[1] \"brier score on refitted 0.112925279131326\"\n"
          ],
          "name": "stdout"
        }
      ]
    },
    {
      "cell_type": "code",
      "metadata": {
        "colab": {
          "base_uri": "https://localhost:8080/"
        },
        "id": "r0k-Khx03ZW-",
        "outputId": "90b3bd9f-4b2f-4297-dd6c-a9a76fa1c092"
      },
      "source": [
        "%%R\n",
        "skewness(p_original)\n"
      ],
      "execution_count": 18,
      "outputs": [
        {
          "output_type": "stream",
          "text": [
            "[1] -1.517189\n"
          ],
          "name": "stdout"
        }
      ]
    },
    {
      "cell_type": "code",
      "metadata": {
        "colab": {
          "base_uri": "https://localhost:8080/"
        },
        "id": "iiI1YIZp3Zbs",
        "outputId": "0dc2b055-751d-4859-ffcb-dd71cf1efd43"
      },
      "source": [
        "%%R\n",
        "skewness(updated_p) "
      ],
      "execution_count": 19,
      "outputs": [
        {
          "output_type": "stream",
          "text": [
            "[1] 0.7047596\n"
          ],
          "name": "stdout"
        }
      ]
    },
    {
      "cell_type": "code",
      "metadata": {
        "colab": {
          "base_uri": "https://localhost:8080/"
        },
        "id": "5bFWGRof3ZeA",
        "outputId": "2b7a1222-f31c-44a9-826b-ece7ec2fb68d"
      },
      "source": [
        "%%R\n",
        "skewness(p_reffited) "
      ],
      "execution_count": 20,
      "outputs": [
        {
          "output_type": "stream",
          "text": [
            "[1] 1.306749\n"
          ],
          "name": "stdout"
        }
      ]
    },
    {
      "cell_type": "code",
      "metadata": {
        "colab": {
          "base_uri": "https://localhost:8080/"
        },
        "id": "v9_1nnK83ZgT",
        "outputId": "4cef0368-4edc-4688-be15-66e5a1c65b5f"
      },
      "source": [
        "%%R\n",
        "skewness(p) "
      ],
      "execution_count": 21,
      "outputs": [
        {
          "output_type": "stream",
          "text": [
            "[1] -1.5482\n"
          ],
          "name": "stdout"
        }
      ]
    },
    {
      "cell_type": "code",
      "metadata": {
        "colab": {
          "base_uri": "https://localhost:8080/"
        },
        "id": "icb4uNvZ3ZiW",
        "outputId": "d09ac7c1-8b57-4dc5-e57e-ff737588b473"
      },
      "source": [
        "%%R\n",
        "mean(p_reffited)*(1-mean(p_reffited))"
      ],
      "execution_count": 22,
      "outputs": [
        {
          "output_type": "stream",
          "text": [
            "[1] 0.1731047\n"
          ],
          "name": "stdout"
        }
      ]
    },
    {
      "cell_type": "code",
      "metadata": {
        "colab": {
          "base_uri": "https://localhost:8080/"
        },
        "id": "jXhM0S2XZWyD",
        "outputId": "c7edca70-8460-43c8-ef09-1976bc7d36c2"
      },
      "source": [
        "%%R\n",
        "mean(p_reffited) "
      ],
      "execution_count": 23,
      "outputs": [
        {
          "output_type": "stream",
          "text": [
            "[1] 0.2227\n"
          ],
          "name": "stdout"
        }
      ]
    },
    {
      "cell_type": "code",
      "metadata": {
        "colab": {
          "base_uri": "https://localhost:8080/"
        },
        "id": "spOvBUYR3Zke",
        "outputId": "5af34cd4-5392-4b2d-9494-588b07058fde"
      },
      "source": [
        "%%R\n",
        "beta_params(0.2271, 0.1755256)"
      ],
      "execution_count": 24,
      "outputs": [
        {
          "output_type": "stream",
          "text": [
            "$alpha\n",
            "[1] 1.066728\n",
            "\n",
            "$beta\n",
            "[1] 3.630446\n",
            "\n"
          ],
          "name": "stdout"
        }
      ]
    },
    {
      "cell_type": "code",
      "metadata": {
        "colab": {
          "base_uri": "https://localhost:8080/",
          "height": 497
        },
        "id": "ffRgMl_p3Zn9",
        "outputId": "456d9915-9520-48e6-a440-e7cb838383fe"
      },
      "source": [
        "%%R\n",
        "p_sim <- rbeta(1000, 1.066728,3.630446)\n",
        "hist(p_sim, freq = FALSE)\n",
        "curve(dbeta(x,  1.066728,3.630446),\n",
        "      add = TRUE, col = \"red\", \n",
        "      lwd = 2)"
      ],
      "execution_count": 25,
      "outputs": [
        {
          "output_type": "display_data",
          "data": {
            "image/png": "[encoded data removed]"
          },
          "metadata": {}
        }
      ]
    }
  ]
}