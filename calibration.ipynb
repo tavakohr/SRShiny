{
  "nbformat": 4,
  "nbformat_minor": 0,
  "metadata": {
    "colab": {
      "name": "calibration.ipynb",
      "provenance": [],
      "collapsed_sections": [],
      "authorship_tag": "ABX9TyN0+/WWxThtm0IwPKuA46PR",
      "include_colab_link": true
    },
    "kernelspec": {
      "name": "python3",
      "display_name": "Python 3"
    },
    "language_info": {
      "name": "python"
    }
  },
  "cells": [
    {
      "cell_type": "markdown",
      "metadata": {
        "id": "view-in-github",
        "colab_type": "text"
      },
      "source": [
        "<a href=\"https://colab.research.google.com/github/tavakohr/rprojects/blob/main/calibration.ipynb\" target=\"_parent\"><img src=\"https://colab.research.google.com/assets/colab-badge.svg\" alt=\"Open In Colab\"/></a>"
      ]
    },
    {
      "cell_type": "code",
      "metadata": {
        "colab": {
          "base_uri": "https://localhost:8080/"
        },
        "id": "di5LC9hX2fhB",
        "outputId": "5ff92db2-2314-44da-a0bb-48ada07b77f7"
      },
      "source": [
        "%load_ext rpy2.ipython\n",
        "from google.colab import files"
      ],
      "execution_count": 30,
      "outputs": [
        {
          "output_type": "stream",
          "text": [
            "The rpy2.ipython extension is already loaded. To reload it, use:\n",
            "  %reload_ext rpy2.ipython\n"
          ],
          "name": "stdout"
        }
      ]
    },
    {
      "cell_type": "code",
      "metadata": {
        "colab": {
          "base_uri": "https://localhost:8080/"
        },
        "id": "fuqmGjd9bICh",
        "outputId": "49afd072-4897-4e02-ab03-c61d73126cc8"
      },
      "source": [
        "%%R\n",
        "#if (!require(\"moments\")) install.packages(\"remotes\")\n",
        "#if (!require(\"moments\")) remotes::install_github(\"feralaes/dampack\")"
      ],
      "execution_count": 31,
      "outputs": [
        {
          "output_type": "stream",
          "text": [
            "NULL\n"
          ],
          "name": "stdout"
        }
      ]
    },
    {
      "cell_type": "code",
      "metadata": {
        "id": "VGwOTa-8oih9"
      },
      "source": [
        "%%R\n",
        "if (!require(\"moments\")) install.packages(\"moments\")\n"
      ],
      "execution_count": 32,
      "outputs": []
    },
    {
      "cell_type": "code",
      "metadata": {
        "id": "MYjjvhuz20jQ"
      },
      "source": [
        "%%R\n",
        "library(tidyverse)\n",
        "library(repr)\n",
        "library(moments)\n",
        "#library(dampack)"
      ],
      "execution_count": 33,
      "outputs": []
    },
    {
      "cell_type": "markdown",
      "metadata": {
        "id": "AY4w27XlVD6k"
      },
      "source": [
        "## Create Original data set"
      ]
    },
    {
      "cell_type": "code",
      "metadata": {
        "colab": {
          "base_uri": "https://localhost:8080/"
        },
        "id": "BUT9cucy20tW",
        "outputId": "7694d31d-cf11-4205-9045-452915b45acb"
      },
      "source": [
        "%%R\n",
        "x1 = rnorm(10000)           # some continuous variables\n",
        "z = 2 + x1       # linear combination with a bias\n",
        "pr = 1/(1+exp(-z))         # pass through an inv-logit function\n",
        "y = rbinom(10000,1,pr)      # bernoulli response variable\n",
        "print( paste('probability in original data set ' ,mean(pr)))"
      ],
      "execution_count": 34,
      "outputs": [
        {
          "output_type": "stream",
          "text": [
            "[1] \"probability in original data set  0.841360442799526\"\n"
          ],
          "name": "stdout"
        }
      ]
    },
    {
      "cell_type": "code",
      "metadata": {
        "colab": {
          "base_uri": "https://localhost:8080/"
        },
        "id": "jF6fSwI620ve",
        "outputId": "cc729a87-7e7c-4079-9a71-f16744470fca"
      },
      "source": [
        "%%R\n",
        "#now feed it to glm:\n",
        "df1 = data.frame(y=y,x=x1)\n",
        "model1<-glm( y~x,data=df1,family=\"binomial\")\n",
        "model1"
      ],
      "execution_count": 35,
      "outputs": [
        {
          "output_type": "stream",
          "text": [
            "\n",
            "Call:  glm(formula = y ~ x, family = \"binomial\", data = df1)\n",
            "\n",
            "Coefficients:\n",
            "(Intercept)            x  \n",
            "      2.025        1.024  \n",
            "\n",
            "Degrees of Freedom: 9999 Total (i.e. Null);  9998 Residual\n",
            "Null Deviance:\t    8707 \n",
            "Residual Deviance: 7558 \tAIC: 7562\n"
          ],
          "name": "stdout"
        }
      ]
    },
    {
      "cell_type": "markdown",
      "metadata": {
        "id": "9vZLytYcXaZB"
      },
      "source": [
        "## Create validation data set"
      ]
    },
    {
      "cell_type": "code",
      "metadata": {
        "colab": {
          "base_uri": "https://localhost:8080/"
        },
        "id": "ycfuS7A720y8",
        "outputId": "0a4ffbd5-bca9-4f1d-bad5-a76dc9e85ba3"
      },
      "source": [
        "%%R\n",
        "x2 = rnorm(10000)           # some continuous variables\n",
        "z2 = -2 + 2*x2       # linear combination with a bias\n",
        "pr2 = 1/(1+exp(-z2))         # pass through an inv-logit function\n",
        "y2 = rbinom(10000,1,pr2)      # bernoulli response variable\n",
        "df2 = data.frame(y=y2,x=x2)\n",
        "\n",
        "print( paste('probability in vallidation data set ' ,mean(pr2)))"
      ],
      "execution_count": 36,
      "outputs": [
        {
          "output_type": "stream",
          "text": [
            "[1] \"probability in vallidation data set  0.224132248709683\"\n"
          ],
          "name": "stdout"
        }
      ]
    },
    {
      "cell_type": "code",
      "metadata": {
        "id": "ox48kzJx3ZDr"
      },
      "source": [
        "%%R\n",
        "incidence_O<-sum(y)/length(y)\n",
        "incidence_U<-sum(y2)/length(y2)"
      ],
      "execution_count": 37,
      "outputs": []
    },
    {
      "cell_type": "markdown",
      "metadata": {
        "id": "y8xS44lBX4nj"
      },
      "source": [
        "## mean of predicted value for original data"
      ]
    },
    {
      "cell_type": "code",
      "metadata": {
        "colab": {
          "base_uri": "https://localhost:8080/"
        },
        "id": "Iaqd9rlb3ZGM",
        "outputId": "5a8f158c-bbe2-469e-9eb7-8d58999c3f77"
      },
      "source": [
        "%%R\n",
        "p_original<-predict(model1,newdata=df1,type='response')\n",
        "mean(p_original)"
      ],
      "execution_count": 38,
      "outputs": [
        {
          "output_type": "stream",
          "text": [
            "[1] 0.8426\n"
          ],
          "name": "stdout"
        }
      ]
    },
    {
      "cell_type": "code",
      "metadata": {
        "id": "lvcg_VSyw4gT"
      },
      "source": [
        ""
      ],
      "execution_count": null,
      "outputs": []
    },
    {
      "cell_type": "markdown",
      "metadata": {
        "id": "M0c4hnF3X_iC"
      },
      "source": [
        "## mean of predicted value for validation data\n",
        "## Although validation's incidence is 22% but model1 reports 83% "
      ]
    },
    {
      "cell_type": "code",
      "metadata": {
        "colab": {
          "base_uri": "https://localhost:8080/"
        },
        "id": "hOlUxnlsX2QW",
        "outputId": "0de45c8c-6ac0-4ad8-b218-3d1c206820eb"
      },
      "source": [
        "%%R\n",
        "mean(predict(model1,newdata=df2,type='response'))"
      ],
      "execution_count": 39,
      "outputs": [
        {
          "output_type": "stream",
          "text": [
            "[1] 0.8461841\n"
          ],
          "name": "stdout"
        }
      ]
    },
    {
      "cell_type": "markdown",
      "metadata": {
        "id": "7kOjyK7rYmKV"
      },
      "source": [
        "### Responses in validation set  generates by original model"
      ]
    },
    {
      "cell_type": "code",
      "metadata": {
        "id": "Lyp-7IHqXvKB"
      },
      "source": [
        "%%R\n",
        "p=predict(model1,newdata=df2,type='response')\n"
      ],
      "execution_count": 40,
      "outputs": []
    },
    {
      "cell_type": "markdown",
      "metadata": {
        "id": "IfMxc0kSYz0s"
      },
      "source": [
        "## Calculate the correction factor"
      ]
    },
    {
      "cell_type": "code",
      "metadata": {
        "colab": {
          "base_uri": "https://localhost:8080/"
        },
        "id": "Hd-yL9RT3ZI5",
        "outputId": "dfed52d0-d106-4c63-eccd-2549f860b79a"
      },
      "source": [
        "%%R\n",
        "CF=(incidence_U/(1-incidence_U))/(incidence_O/(1-incidence_O))\n",
        "CF"
      ],
      "execution_count": 41,
      "outputs": [
        {
          "output_type": "stream",
          "text": [
            "[1] 0.05386042\n"
          ],
          "name": "stdout"
        }
      ]
    },
    {
      "cell_type": "markdown",
      "metadata": {
        "id": "pRUrOiNSY6Db"
      },
      "source": [
        "## Transform the responses from original model "
      ]
    },
    {
      "cell_type": "code",
      "metadata": {
        "colab": {
          "base_uri": "https://localhost:8080/"
        },
        "id": "-BMY7myn3ZL3",
        "outputId": "9350ed2f-4d35-4ff3-899f-e83fb9b28e46"
      },
      "source": [
        "%%R\n",
        "updated_p=(p*CF)/(1+p*CF-p)\n",
        "\n",
        "mean(updated_p)\n"
      ],
      "execution_count": 42,
      "outputs": [
        {
          "output_type": "stream",
          "text": [
            "[1] 0.3229581\n"
          ],
          "name": "stdout"
        }
      ]
    },
    {
      "cell_type": "markdown",
      "metadata": {
        "id": "ZNHIC1XZZapq"
      },
      "source": [
        "## mean of transormed response is 0.31 while the correct mean in validation set is 0.22"
      ]
    },
    {
      "cell_type": "markdown",
      "metadata": {
        "id": "pDHC69JUaMMM"
      },
      "source": [
        "## create a gold standard response based on validation set"
      ]
    },
    {
      "cell_type": "code",
      "metadata": {
        "colab": {
          "base_uri": "https://localhost:8080/"
        },
        "id": "YGT63r60aMc_",
        "outputId": "4680fb2e-1856-48c1-eb53-542c02b919fd"
      },
      "source": [
        "%%R\n",
        "model2<-glm( y~x,data=df2,family=\"binomial\")\n",
        "model2\n",
        "p_reffited=predict(model2,newdata=df2,type='response')\n",
        "mean(p_reffited)"
      ],
      "execution_count": 43,
      "outputs": [
        {
          "output_type": "stream",
          "text": [
            "[1] 0.2238\n"
          ],
          "name": "stdout"
        }
      ]
    },
    {
      "cell_type": "markdown",
      "metadata": {
        "id": "4Kc0849-psPY"
      },
      "source": [
        "## probabilities in Original model"
      ]
    },
    {
      "cell_type": "code",
      "metadata": {
        "colab": {
          "base_uri": "https://localhost:8080/",
          "height": 497
        },
        "id": "ESiynpXypz6E",
        "outputId": "de3a53f5-9e56-42a8-ae46-9d7499aa2fc1"
      },
      "source": [
        "%%R\n",
        "hist(p_original, main='probabilities of evant on training set')"
      ],
      "execution_count": 44,
      "outputs": [
        {
          "output_type": "display_data",
          "data": {
            "image/png": "[encoded data removed]"
          },
          "metadata": {}
        }
      ]
    },
    {
      "cell_type": "markdown",
      "metadata": {
        "id": "r_h8z4Thp2ET"
      },
      "source": [
        "## comparing the probability set which are associated with validation set\n",
        "  - 1 updated_p : after converting using CF\n",
        "  - 2 p_reffited  is provided by refitting a new model on validation set\n",
        "  - 3 p is probabilities for validation set generated by original model"
      ]
    },
    {
      "cell_type": "code",
      "metadata": {
        "colab": {
          "base_uri": "https://localhost:8080/",
          "height": 497
        },
        "id": "Vr0JC0XWZyup",
        "outputId": "fb9e3dbb-be7d-4fb7-da80-f54093eca984"
      },
      "source": [
        "%%R\n",
        "par(mfrow=c(1,3))\n",
        "\n",
        "options(repr.plot.width = 2, repr.plot.height =1, repr.plot.res = 600)\n",
        "\n",
        "hist(updated_p,main=\"Updated probabilities\")\n",
        "hist(p_reffited,main=\"Real probabilities \")\n",
        "hist(p,main=\"Original output for validation set \")"
      ],
      "execution_count": 45,
      "outputs": [
        {
          "output_type": "display_data",
          "data": {
            "image/png": "[encoded data removed]"
          },
          "metadata": {}
        }
      ]
    },
    {
      "cell_type": "code",
      "metadata": {
        "colab": {
          "base_uri": "https://localhost:8080/"
        },
        "id": "827kv1CW3ZQ9",
        "outputId": "116b6f28-d992-4cfc-9ae1-47b8a3518ffb"
      },
      "source": [
        "%%R\n",
        "print(paste('brier score on original',sum((p-y2)^2)/length(y2)))\n",
        "print(paste('brier score on updated',sum((updated_p-y2)^2)/length(y2)))\n",
        "print(paste('brier score on refitted',sum((p_reffited-y2)^2)/length(y2)))"
      ],
      "execution_count": 46,
      "outputs": [
        {
          "output_type": "stream",
          "text": [
            "[1] \"brier score on original 0.534587828001438\"\n",
            "[1] \"brier score on updated 0.128980883883255\"\n",
            "[1] \"brier score on refitted 0.113223135972224\"\n"
          ],
          "name": "stdout"
        }
      ]
    },
    {
      "cell_type": "code",
      "metadata": {
        "colab": {
          "base_uri": "https://localhost:8080/"
        },
        "id": "r0k-Khx03ZW-",
        "outputId": "e5ecc212-4e1f-4140-e6ec-07b47beea368"
      },
      "source": [
        "%%R\n",
        "skewness(p_original)\n"
      ],
      "execution_count": 47,
      "outputs": [
        {
          "output_type": "stream",
          "text": [
            "[1] -1.559242\n"
          ],
          "name": "stdout"
        }
      ]
    },
    {
      "cell_type": "code",
      "metadata": {
        "colab": {
          "base_uri": "https://localhost:8080/"
        },
        "id": "iiI1YIZp3Zbs",
        "outputId": "63161e10-b5be-4a75-e17b-17876efd94e9"
      },
      "source": [
        "%%R\n",
        "skewness(updated_p) "
      ],
      "execution_count": 48,
      "outputs": [
        {
          "output_type": "stream",
          "text": [
            "[1] 0.6494165\n"
          ],
          "name": "stdout"
        }
      ]
    },
    {
      "cell_type": "code",
      "metadata": {
        "colab": {
          "base_uri": "https://localhost:8080/"
        },
        "id": "5bFWGRof3ZeA",
        "outputId": "dff54d0f-1749-4b46-9329-3690b6ea128c"
      },
      "source": [
        "%%R\n",
        "skewness(p_reffited) "
      ],
      "execution_count": 49,
      "outputs": [
        {
          "output_type": "stream",
          "text": [
            "[1] 1.288837\n"
          ],
          "name": "stdout"
        }
      ]
    },
    {
      "cell_type": "code",
      "metadata": {
        "colab": {
          "base_uri": "https://localhost:8080/"
        },
        "id": "v9_1nnK83ZgT",
        "outputId": "a21a08bd-7ff0-4424-a8db-0b8b9947f31e"
      },
      "source": [
        "%%R\n",
        "skewness(p) "
      ],
      "execution_count": 50,
      "outputs": [
        {
          "output_type": "stream",
          "text": [
            "[1] -1.597822\n"
          ],
          "name": "stdout"
        }
      ]
    },
    {
      "cell_type": "code",
      "metadata": {
        "colab": {
          "base_uri": "https://localhost:8080/"
        },
        "id": "icb4uNvZ3ZiW",
        "outputId": "522d04cd-1964-4f89-c9e6-2fd986f934aa"
      },
      "source": [
        "%%R\n",
        "mean(p_reffited)*(1-mean(p_reffited))"
      ],
      "execution_count": 51,
      "outputs": [
        {
          "output_type": "stream",
          "text": [
            "[1] 0.1737136\n"
          ],
          "name": "stdout"
        }
      ]
    },
    {
      "cell_type": "code",
      "metadata": {
        "colab": {
          "base_uri": "https://localhost:8080/"
        },
        "id": "jXhM0S2XZWyD",
        "outputId": "297b717e-ffc0-4943-bb94-e1d94cd5676e"
      },
      "source": [
        "%%R\n",
        "mean(p_reffited) "
      ],
      "execution_count": 52,
      "outputs": [
        {
          "output_type": "stream",
          "text": [
            "[1] 0.2238\n"
          ],
          "name": "stdout"
        }
      ]
    },
    {
      "cell_type": "code",
      "metadata": {
        "id": "spOvBUYR3Zke"
      },
      "source": [
        "#%%R\n",
        "#beta_params(0.2271, 0.1755256)"
      ],
      "execution_count": 53,
      "outputs": []
    },
    {
      "cell_type": "code",
      "metadata": {
        "colab": {
          "base_uri": "https://localhost:8080/",
          "height": 35
        },
        "id": "ffRgMl_p3Zn9",
        "outputId": "4ded9b8d-d1e3-4d43-f042-0a0b52b6b248"
      },
      "source": [
        "#%%R\n",
        "'''p_sim <- rbeta(1000, 1.066728,3.630446)\n",
        "hist(p_sim, freq = FALSE)\n",
        "curve(dbeta(x,  1.066728,3.630446),\n",
        "      add = TRUE, col = \"red\", \n",
        "      lwd = 2)'''"
      ],
      "execution_count": 55,
      "outputs": [
        {
          "output_type": "execute_result",
          "data": {
            "application/vnd.google.colaboratory.intrinsic+json": {
              "type": "string"
            },
            "text/plain": [
              "'p_sim <- rbeta(1000, 1.066728,3.630446)\\nhist(p_sim, freq = FALSE)\\ncurve(dbeta(x,  1.066728,3.630446),\\n      add = TRUE, col = \"red\", \\n      lwd = 2)'"
            ]
          },
          "metadata": {},
          "execution_count": 55
        }
      ]
    },
    {
      "cell_type": "code",
      "metadata": {
        "colab": {
          "base_uri": "https://localhost:8080/"
        },
        "id": "xjtputRBvr4G",
        "outputId": "5a65fe65-6cd3-4032-f799-1bff98bc202b"
      },
      "source": [
        "%%R\n",
        "# k=Mohsen's correction factor\n",
        "# mu comes from the validation set refitted model\n",
        "# var also comes from validation set refitted model\n",
        "\n",
        "mu=mean(p_reffited)\n",
        "var=sd(p_reffited)\n",
        "var\n",
        "#https://www.wolframalpha.com/input/?i=k%2F%281%2Bk%29%2B%281-+k%29k%2F%281-%28%281-k%29%29%2F2%29%5E3*0.2463466%3D0.2238\n",
        "#k≈0.0997759\n"
      ],
      "execution_count": 56,
      "outputs": [
        {
          "output_type": "stream",
          "text": [
            "[1] 0.2463466\n"
          ],
          "name": "stdout"
        }
      ]
    },
    {
      "cell_type": "code",
      "metadata": {
        "colab": {
          "base_uri": "https://localhost:8080/"
        },
        "id": "mO37F2pnw5wD",
        "outputId": "0c9924ee-d829-4706-bf88-4c6288aaa094"
      },
      "source": [
        "%%R\n",
        "or_new<-0.0997759\n",
        "\n",
        "odds <- p_original/(1-p_original) * or_new\n",
        "p_new<-odds/(1+odds)\n",
        "mean(p_new)"
      ],
      "execution_count": 60,
      "outputs": [
        {
          "output_type": "stream",
          "text": [
            "[1] 0.4378056\n"
          ],
          "name": "stdout"
        }
      ]
    },
    {
      "cell_type": "code",
      "metadata": {
        "colab": {
          "base_uri": "https://localhost:8080/",
          "height": 497
        },
        "id": "bgDfXpjaxidS",
        "outputId": "6b8874be-3fdd-4cdf-8ec2-e86bedae02be"
      },
      "source": [
        "%%R\n",
        "hist(p_new)"
      ],
      "execution_count": 62,
      "outputs": [
        {
          "output_type": "display_data",
          "data": {
            "image/png": "[encoded data removed]"
          },
          "metadata": {}
        }
      ]
    }
  ]
}